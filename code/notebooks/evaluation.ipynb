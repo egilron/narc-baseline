{
 "cells": [
  {
   "cell_type": "code",
   "execution_count": 13,
   "metadata": {},
   "outputs": [
    {
     "name": "stdout",
     "output_type": "stream",
     "text": [
      "000\n",
      "0.6382874338271536\n",
      "{'muc': {'precision': 0.8579881656804734, 'recall': 0.7038834951456311, 'f1': 0.7733333333333334}, 'b_cubed': {'precision': 0.7334043473640194, 'recall': 0.534652981427175, 'f1': 0.6184528286013994}, 'ceafe': {'precision': 0.5506064626807662, 'recall': 0.49816775194926466, 'f1': 0.5230761395467278}, 'lea': {'precision': 0.6954434305481005, 'recall': 0.49994274479301704, 'f1': 0.5817064053250811}}\n",
      "001\n",
      "0.6137084615200821\n",
      "{'muc': {'precision': 0.8238341968911918, 'recall': 0.7718446601941747, 'f1': 0.7969924812030076}, 'b_cubed': {'precision': 0.5782068084827323, 'recall': 0.520405669599218, 'f1': 0.5477856975748596}, 'ceafe': {'precision': 0.5087558859269385, 'recall': 0.48452941516851294, 'f1': 0.4963472057823791}, 'lea': {'precision': 0.5395648486813204, 'recall': 0.4839377364434445, 'f1': 0.5102396326697267}}\n"
     ]
    }
   ],
   "source": [
    "import jsonlines\n",
    "from corefeval import get_metrics\n",
    "\n",
    "IDS = [\"000\", \"001\"]\n",
    "\n",
    "for id in IDS:\n",
    "    print(id)\n",
    "    gold_file = f\"../../converted_data/{id}_deve20gold.jsonl\"\n",
    "    pred_file = f\"../../converted_data/{id}_deve20pred.jsonl\"\n",
    "\n",
    "    with jsonlines.open(gold_file) as jsonl:\n",
    "        gold_clusters = jsonl.read()[\"clusters\"]\n",
    "    pred_data = None\n",
    "    with jsonlines.open(pred_file) as jsonl:\n",
    "        pred_clusters = jsonl.read()[\"clusters\"]\n",
    "\n",
    "    conll_f1, metrics = get_metrics(\n",
    "        predicted=pred_clusters,\n",
    "        gold=gold_clusters,\n",
    "        verbose=False,  # print detailed info\n",
    "        modelname=\"None\",\n",
    "        dataset=\"Dummy file\"\n",
    "    )\n",
    "    print(conll_f1)\n",
    "    print(metrics)"
   ]
  },
  {
   "cell_type": "code",
   "execution_count": 1,
   "metadata": {},
   "outputs": [
    {
     "name": "stdout",
     "output_type": "stream",
     "text": [
      "000\n",
      "0.7341442475214836\n",
      "{'muc': {'precision': 0.8148148148148148, 'recall': 0.8979591836734694, 'f1': 0.8543689320388349}, 'b_cubed': {'precision': 0.748989898989899, 'recall': 0.6251105216622458, 'f1': 0.6814661569714406}, 'ceafe': {'precision': 0.5832729468599034, 'recall': 0.7776972624798711, 'f1': 0.6665976535541753}, 'lea': {'precision': 0.7379832810867293, 'recall': 0.6064730792498488, 'f1': 0.6657962372293427}}\n",
      "001\n",
      "0.7541010555030739\n",
      "{'muc': {'precision': 0.7540983606557377, 'recall': 0.9387755102040817, 'f1': 0.8363636363636363}, 'b_cubed': {'precision': 0.6492692605497483, 'recall': 0.9069407603890363, 'f1': 0.7567728634789188}, 'ceafe': {'precision': 0.6083333333333333, 'recall': 0.7435185185185185, 'f1': 0.6691666666666667}, 'lea': {'precision': 0.6291666666666668, 'recall': 0.897459165154265, 'f1': 0.7397377663078746}}\n"
     ]
    }
   ],
   "source": [
    "import jsonlines\n",
    "from corefeval import get_metrics\n",
    "\n",
    "IDS = [\"000\", \"001\"]\n",
    "_type = \"test\"  # dev, test\n",
    "\n",
    "for id in IDS:\n",
    "    print(id)\n",
    "    gold_file = f\"../../converted_data/{_type}/{id}_{_type}e20gold.jsonl\"\n",
    "    pred_file = f\"../../converted_data/{_type}/{id}_{_type}e20pred.jsonl\"\n",
    "\n",
    "    with jsonlines.open(gold_file) as jsonl:\n",
    "        gold_clusters = jsonl.read()[\"clusters\"]\n",
    "    pred_data = None\n",
    "    with jsonlines.open(pred_file) as jsonl:\n",
    "        pred_clusters = jsonl.read()[\"clusters\"]\n",
    "\n",
    "    conll_f1, metrics = get_metrics(\n",
    "        predicted=pred_clusters,\n",
    "        gold=gold_clusters,\n",
    "        verbose=False,  # print detailed info\n",
    "        modelname=\"None\",\n",
    "        dataset=\"Dummy file\"\n",
    "    )\n",
    "    print(conll_f1)\n",
    "    print(metrics)"
   ]
  },
  {
   "cell_type": "code",
   "execution_count": null,
   "metadata": {},
   "outputs": [],
   "source": []
  }
 ],
 "metadata": {
  "interpreter": {
   "hash": "29553384b1b01f6109f5069a08d409f2dc5adeb046ccd0e94d694cc3c1cd07a6"
  },
  "kernelspec": {
   "display_name": "Python 3.9.10 ('base')",
   "language": "python",
   "name": "python3"
  },
  "language_info": {
   "codemirror_mode": {
    "name": "ipython",
    "version": 3
   },
   "file_extension": ".py",
   "mimetype": "text/x-python",
   "name": "python",
   "nbconvert_exporter": "python",
   "pygments_lexer": "ipython3",
   "version": "3.9.10"
  },
  "orig_nbformat": 4
 },
 "nbformat": 4,
 "nbformat_minor": 2
}
