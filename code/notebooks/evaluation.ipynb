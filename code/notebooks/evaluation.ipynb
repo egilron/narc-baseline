{
 "cells": [
  {
   "cell_type": "code",
   "execution_count": 1,
   "metadata": {},
   "outputs": [
    {
     "data": {
      "text/plain": [
       "dict_keys(['doc_key', 'sentences', 'tokens', 'clusters'])"
      ]
     },
     "execution_count": 1,
     "metadata": {},
     "output_type": "execute_result"
    }
   ],
   "source": [
    "import jsonlines\n",
    "from corefeval import get_metrics\n",
    "\n",
    "file = \"../../annotations_jsonlines/bokmaal_aftenposten_06.jsonl\"\n",
    "data = None\n",
    "with jsonlines.open(file) as jsonl:\n",
    "    data = jsonl.read()\n",
    "data.keys()"
   ]
  },
  {
   "cell_type": "code",
   "execution_count": 5,
   "metadata": {},
   "outputs": [
    {
     "name": "stdout",
     "output_type": "stream",
     "text": [
      "[[[50, 50], [27, 27], [29, 29]], [[0, 1], [27, 27], [7, 13]], [[16, 16], [20, 20], [53, 53]], [[44, 44], [46, 46]]]\n",
      "[[[50, 50], [27, 27], [29, 29]], [[0, 1], [27, 27], [7, 13]], [[16, 16], [20, 20], [53, 53]]]\n",
      "0.7976800976800976\n",
      "{'muc': {'precision': 0.8333333333333334, 'recall': 0.7142857142857143, 'f1': 0.7692307692307692}, 'b_cubed': {'precision': 0.8518518518518519, 'recall': 0.696969696969697, 'f1': 0.7666666666666667}, 'ceafe': {'precision': 1.0, 'recall': 0.75, 'f1': 0.8571428571428571}, 'lea': {'precision': 0.7777777777777778, 'recall': 0.6363636363636364, 'f1': 0.7000000000000001}}\n"
     ]
    }
   ],
   "source": [
    "gold_clusters = data[\"clusters\"]\n",
    "pred_clusters = gold_clusters.copy()\n",
    "pred_clusters = pred_clusters[:-1]  # just remove one for illustrative purposes\n",
    "\n",
    "print(gold_clusters)\n",
    "print(pred_clusters)\n",
    "\n",
    "conll_f1, metrics = get_metrics(\n",
    "    predicted=pred_clusters,\n",
    "    gold=gold_clusters,\n",
    "    verbose=False,  # print detailed info\n",
    "    modelname=\"None\",\n",
    "    dataset=\"Dummy file\"\n",
    ")\n",
    "print(conll_f1)\n",
    "print(metrics)"
   ]
  }
 ],
 "metadata": {
  "interpreter": {
   "hash": "29553384b1b01f6109f5069a08d409f2dc5adeb046ccd0e94d694cc3c1cd07a6"
  },
  "kernelspec": {
   "display_name": "Python 3.9.10 ('base')",
   "language": "python",
   "name": "python3"
  },
  "language_info": {
   "codemirror_mode": {
    "name": "ipython",
    "version": 3
   },
   "file_extension": ".py",
   "mimetype": "text/x-python",
   "name": "python",
   "nbconvert_exporter": "python",
   "pygments_lexer": "ipython3",
   "version": "3.9.10"
  },
  "orig_nbformat": 4
 },
 "nbformat": 4,
 "nbformat_minor": 2
}
