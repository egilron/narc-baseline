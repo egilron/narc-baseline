{
 "cells": [
  {
   "cell_type": "code",
   "execution_count": 13,
   "metadata": {},
   "outputs": [
    {
     "name": "stdout",
     "output_type": "stream",
     "text": [
      "000\n",
      "0.6382874338271536\n",
      "{'muc': {'precision': 0.8579881656804734, 'recall': 0.7038834951456311, 'f1': 0.7733333333333334}, 'b_cubed': {'precision': 0.7334043473640194, 'recall': 0.534652981427175, 'f1': 0.6184528286013994}, 'ceafe': {'precision': 0.5506064626807662, 'recall': 0.49816775194926466, 'f1': 0.5230761395467278}, 'lea': {'precision': 0.6954434305481005, 'recall': 0.49994274479301704, 'f1': 0.5817064053250811}}\n",
      "001\n",
      "0.6137084615200821\n",
      "{'muc': {'precision': 0.8238341968911918, 'recall': 0.7718446601941747, 'f1': 0.7969924812030076}, 'b_cubed': {'precision': 0.5782068084827323, 'recall': 0.520405669599218, 'f1': 0.5477856975748596}, 'ceafe': {'precision': 0.5087558859269385, 'recall': 0.48452941516851294, 'f1': 0.4963472057823791}, 'lea': {'precision': 0.5395648486813204, 'recall': 0.4839377364434445, 'f1': 0.5102396326697267}}\n"
     ]
    }
   ],
   "source": [
    "import jsonlines\n",
    "from corefeval import get_metrics\n",
    "\n",
    "IDS = [\"000\", \"001\"]\n",
    "\n",
    "for id in IDS:\n",
    "    print(id)\n",
    "    gold_file = f\"../../converted_data/{id}_deve20gold.jsonl\"\n",
    "    pred_file = f\"../../converted_data/{id}_deve20pred.jsonl\"\n",
    "\n",
    "    with jsonlines.open(gold_file) as jsonl:\n",
    "        gold_clusters = jsonl.read()[\"clusters\"]\n",
    "    pred_data = None\n",
    "    with jsonlines.open(pred_file) as jsonl:\n",
    "        pred_clusters = jsonl.read()[\"clusters\"]\n",
    "\n",
    "    conll_f1, metrics = get_metrics(\n",
    "        predicted=pred_clusters,\n",
    "        gold=gold_clusters,\n",
    "        verbose=False,  # print detailed info\n",
    "        modelname=\"None\",\n",
    "        dataset=\"Dummy file\"\n",
    "    )\n",
    "    print(conll_f1)\n",
    "    print(metrics)"
   ]
  },
  {
   "cell_type": "code",
   "execution_count": 3,
   "metadata": {},
   "outputs": [
    {
     "name": "stdout",
     "output_type": "stream",
     "text": [
      "000\n",
      "0.6308734232855439\n",
      "{'muc': {'precision': 0.9040247678018576, 'recall': 0.7934782608695652, 'f1': 0.8451519536903039}, 'b_cubed': {'precision': 0.63150477994228, 'recall': 0.6270623682025156, 'f1': 0.6292757337986012}, 'ceafe': {'precision': 0.5551867041778434, 'recall': 0.3354253004407804, 'f1': 0.41819258236772616}, 'lea': {'precision': 0.6193873855228437, 'recall': 0.6150255446308077, 'f1': 0.6171987587188061}}\n",
      "001\n",
      "0.6344919287237332\n",
      "{'muc': {'precision': 0.8497267759562842, 'recall': 0.845108695652174, 'f1': 0.8474114441416895}, 'b_cubed': {'precision': 0.6109462464534928, 'recall': 0.4908863497462024, 'f1': 0.5443752051756223}, 'ceafe': {'precision': 0.5116891368538877, 'recall': 0.5116891368538877, 'f1': 0.5116891368538877}, 'lea': {'precision': 0.5887060204724902, 'recall': 0.47108576730287255, 'f1': 0.5233688929638841}}\n"
     ]
    }
   ],
   "source": [
    "import jsonlines\n",
    "from corefeval import get_metrics\n",
    "\n",
    "IDS = [\"000\", \"001\"]\n",
    "_folder = \"test2\"  # dev, test\n",
    "_type = \"test\"  # dev, test\n",
    "\n",
    "for id in IDS:\n",
    "    print(id)\n",
    "    gold_file = f\"../../converted_data/{_folder}/{id}{_type}gold.jsonl\"\n",
    "    pred_file = f\"../../converted_data/{_folder}/{id}{_type}pred.jsonl\"\n",
    "\n",
    "    with jsonlines.open(gold_file) as jsonl:\n",
    "        gold_clusters = jsonl.read()[\"clusters\"]\n",
    "    pred_data = None\n",
    "    with jsonlines.open(pred_file) as jsonl:\n",
    "        pred_clusters = jsonl.read()[\"clusters\"]\n",
    "\n",
    "    conll_f1, metrics = get_metrics(\n",
    "        predicted=pred_clusters,\n",
    "        gold=gold_clusters,\n",
    "        verbose=False,  # print detailed info\n",
    "        modelname=\"None\",\n",
    "        dataset=\"Dummy file\"\n",
    "    )\n",
    "    print(conll_f1)\n",
    "    print(metrics)"
   ]
  },
  {
   "cell_type": "code",
   "execution_count": null,
   "metadata": {},
   "outputs": [],
   "source": []
  }
 ],
 "metadata": {
  "interpreter": {
   "hash": "29553384b1b01f6109f5069a08d409f2dc5adeb046ccd0e94d694cc3c1cd07a6"
  },
  "kernelspec": {
   "display_name": "Python 3.9.10 ('base')",
   "language": "python",
   "name": "python3"
  },
  "language_info": {
   "codemirror_mode": {
    "name": "ipython",
    "version": 3
   },
   "file_extension": ".py",
   "mimetype": "text/x-python",
   "name": "python",
   "nbconvert_exporter": "python",
   "pygments_lexer": "ipython3",
   "version": "3.9.10"
  },
  "orig_nbformat": 4
 },
 "nbformat": 4,
 "nbformat_minor": 2
}
