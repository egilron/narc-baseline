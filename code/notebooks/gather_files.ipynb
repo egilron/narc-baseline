{
 "cells": [
  {
   "cell_type": "code",
   "execution_count": 1,
   "id": "a20324c3-cd16-43d4-8ccc-5a36daf4f806",
   "metadata": {},
   "outputs": [],
   "source": [
    "import os"
   ]
  },
  {
   "cell_type": "code",
   "execution_count": 5,
   "id": "c1c8301e-7cd4-45a9-a11b-a7ebd4545dcc",
   "metadata": {},
   "outputs": [],
   "source": [
    "root = os.path.dirname(os.getcwd())\n",
    "annotations = os.path.join(root, \"annotation_bokmaal\", \"FINISHED_ANNOTATIONS\")"
   ]
  },
  {
   "cell_type": "code",
   "execution_count": 7,
   "id": "7c848628-40ee-46d2-a0ea-bb91c000ccac",
   "metadata": {},
   "outputs": [],
   "source": [
    "import shutil\n",
    "\n",
    "new_annotations_folder = os.path.join(os.getcwd(), \"all_annotations\")\n",
    "if not os.path.exists(new_annotations_folder):\n",
    "    os.mkdir(new_annotations_folder)\n",
    "    os.mkdir(os.path.join(new_annotations_folder, \"ANN\"))\n",
    "    os.mkdir(os.path.join(new_annotations_folder, \"TXT\"))\n",
    "else:\n",
    "    print(\"folder for new annotations already exists, verify if this is the data you'd like to keep.\")"
   ]
  },
  {
   "cell_type": "code",
   "execution_count": 8,
   "id": "7c42df8e-ffff-46c3-ab8b-e9ba6f2c3458",
   "metadata": {},
   "outputs": [],
   "source": [
    "TXT = \".txt\"\n",
    "ANN = \".ann\"\n",
    "\n",
    "#get_ext = lambda f : f.split(\".\")[-1].upper()  # e.g., ap_20090814-3215872.ann -> ANN\n",
    "valid_file = lambda f : TXT in f or ANN in f\n",
    "\n",
    "for walk in os.walk(annotations):\n",
    "    path, _, filenames = walk\n",
    "    for f in filenames:\n",
    "        if not valid_file(f):\n",
    "            continue\n",
    "            \n",
    "        f_path = os.path.join(path, f)\n",
    "        # optional TODO: place files in ANN or TXT folders\n",
    "        new_path = os.path.join(new_annotations_folder, f)\n",
    "        shutil.copy2(f_path, new_path)"
   ]
  }
 ],
 "metadata": {
  "interpreter": {
   "hash": "29553384b1b01f6109f5069a08d409f2dc5adeb046ccd0e94d694cc3c1cd07a6"
  },
  "kernelspec": {
   "display_name": "Python 3.9.10 ('base')",
   "language": "python",
   "name": "python3"
  },
  "language_info": {
   "codemirror_mode": {
    "name": "ipython",
    "version": 3
   },
   "file_extension": ".py",
   "mimetype": "text/x-python",
   "name": "python",
   "nbconvert_exporter": "python",
   "pygments_lexer": "ipython3",
   "version": "3.9.10"
  }
 },
 "nbformat": 4,
 "nbformat_minor": 5
}
